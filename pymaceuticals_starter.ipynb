{
 "cells": [
  {
   "cell_type": "markdown",
   "metadata": {},
   "source": [
    "## Observations and Insights "
   ]
  },
  {
   "cell_type": "markdown",
   "metadata": {},
   "source": []
  },
  {
   "cell_type": "code",
   "execution_count": 1,
   "metadata": {
    "collapsed": true
   },
   "outputs": [],
   "source": [
    "import matplotlib.pyplot as plt"
   ]
  },
  {
   "cell_type": "code",
   "execution_count": 2,
   "metadata": {},
   "outputs": [
    {
     "data": {
      "text/html": [
       "<div>\n",
       "<style>\n",
       "    .dataframe thead tr:only-child th {\n",
       "        text-align: right;\n",
       "    }\n",
       "\n",
       "    .dataframe thead th {\n",
       "        text-align: left;\n",
       "    }\n",
       "\n",
       "    .dataframe tbody tr th {\n",
       "        vertical-align: top;\n",
       "    }\n",
       "</style>\n",
       "<table border=\"1\" class=\"dataframe\">\n",
       "  <thead>\n",
       "    <tr style=\"text-align: right;\">\n",
       "      <th></th>\n",
       "      <th>Mouse ID</th>\n",
       "      <th>Drug Regimen</th>\n",
       "      <th>Sex</th>\n",
       "      <th>Age_months</th>\n",
       "      <th>Weight (g)</th>\n",
       "      <th>Timepoint</th>\n",
       "      <th>Tumor Volume (mm3)</th>\n",
       "      <th>Metastatic Sites</th>\n",
       "    </tr>\n",
       "  </thead>\n",
       "  <tbody>\n",
       "    <tr>\n",
       "      <th>0</th>\n",
       "      <td>k403</td>\n",
       "      <td>Ramicane</td>\n",
       "      <td>Male</td>\n",
       "      <td>21</td>\n",
       "      <td>16</td>\n",
       "      <td>0</td>\n",
       "      <td>45.000000</td>\n",
       "      <td>0</td>\n",
       "    </tr>\n",
       "    <tr>\n",
       "      <th>1</th>\n",
       "      <td>k403</td>\n",
       "      <td>Ramicane</td>\n",
       "      <td>Male</td>\n",
       "      <td>21</td>\n",
       "      <td>16</td>\n",
       "      <td>5</td>\n",
       "      <td>38.825898</td>\n",
       "      <td>0</td>\n",
       "    </tr>\n",
       "    <tr>\n",
       "      <th>2</th>\n",
       "      <td>k403</td>\n",
       "      <td>Ramicane</td>\n",
       "      <td>Male</td>\n",
       "      <td>21</td>\n",
       "      <td>16</td>\n",
       "      <td>10</td>\n",
       "      <td>35.014271</td>\n",
       "      <td>1</td>\n",
       "    </tr>\n",
       "    <tr>\n",
       "      <th>3</th>\n",
       "      <td>k403</td>\n",
       "      <td>Ramicane</td>\n",
       "      <td>Male</td>\n",
       "      <td>21</td>\n",
       "      <td>16</td>\n",
       "      <td>15</td>\n",
       "      <td>34.223992</td>\n",
       "      <td>1</td>\n",
       "    </tr>\n",
       "    <tr>\n",
       "      <th>4</th>\n",
       "      <td>k403</td>\n",
       "      <td>Ramicane</td>\n",
       "      <td>Male</td>\n",
       "      <td>21</td>\n",
       "      <td>16</td>\n",
       "      <td>20</td>\n",
       "      <td>32.997729</td>\n",
       "      <td>1</td>\n",
       "    </tr>\n",
       "  </tbody>\n",
       "</table>\n",
       "</div>"
      ],
      "text/plain": [
       "  Mouse ID Drug Regimen   Sex  Age_months  Weight (g)  Timepoint  \\\n",
       "0     k403     Ramicane  Male          21          16          0   \n",
       "1     k403     Ramicane  Male          21          16          5   \n",
       "2     k403     Ramicane  Male          21          16         10   \n",
       "3     k403     Ramicane  Male          21          16         15   \n",
       "4     k403     Ramicane  Male          21          16         20   \n",
       "\n",
       "   Tumor Volume (mm3)  Metastatic Sites  \n",
       "0           45.000000                 0  \n",
       "1           38.825898                 0  \n",
       "2           35.014271                 1  \n",
       "3           34.223992                 1  \n",
       "4           32.997729                 1  "
      ]
     },
     "execution_count": 2,
     "metadata": {},
     "output_type": "execute_result"
    }
   ],
   "source": [
    "# Dependencies and Setup\n",
    "\n",
    "import pandas as pd\n",
    "import scipy.stats as st\n",
    "\n",
    "import warnings\n",
    "warnings.filterwarnings('ignore')\n",
    "\n",
    "# Study data files\n",
    "mouse_metadata_path = \"data/Mouse_metadata.csv\"\n",
    "study_results_path = \"data/Study_results.csv\"\n",
    "\n",
    "# Read the mouse data and the study results\n",
    "mouse_metadata = pd.read_csv(mouse_metadata_path)\n",
    "study_results = pd.read_csv(study_results_path)\n",
    "\n",
    "# Combine the data into a single dataset\n",
    "mouse_metadata = mouse_metadata.drop_duplicates()\n",
    "study_results = study_results.drop_duplicates()\n",
    "result1 = mouse_metadata.merge(study_results, on = 'Mouse ID', how = 'outer')\n",
    "# Display the data table for preview\n",
    "result1.head(5)"
   ]
  },
  {
   "cell_type": "code",
   "execution_count": 3,
   "metadata": {},
   "outputs": [
    {
     "data": {
      "text/plain": [
       "249"
      ]
     },
     "execution_count": 3,
     "metadata": {},
     "output_type": "execute_result"
    }
   ],
   "source": [
    "# Checking the number of mice.\n",
    "len(result1['Mouse ID'].unique())"
   ]
  },
  {
   "cell_type": "code",
   "execution_count": 4,
   "metadata": {},
   "outputs": [
    {
     "name": "stdout",
     "output_type": "stream",
     "text": [
      "Duplicate Mouse ID: g989\n"
     ]
    }
   ],
   "source": [
    "# Getting the duplicate mice by ID number that shows up for Mouse ID and Timepoint. \n",
    "\n",
    "result1_1  = result1[['Mouse ID', 'Timepoint']]\n",
    "result1_1['Count'] = 1\n",
    "\n",
    "# Group data frame to identify Mouse ID with more than one entries\n",
    "result1_2 = result1_1.groupby(['Mouse ID', 'Timepoint']).sum().reset_index()\n",
    "\n",
    "print('Duplicate Mouse ID: ' + str(result1_2.loc[result1_2.Count>1]['Mouse ID'].unique().item()))\n",
    "\n"
   ]
  },
  {
   "cell_type": "code",
   "execution_count": 5,
   "metadata": {},
   "outputs": [
    {
     "data": {
      "text/html": [
       "<div>\n",
       "<style>\n",
       "    .dataframe thead tr:only-child th {\n",
       "        text-align: right;\n",
       "    }\n",
       "\n",
       "    .dataframe thead th {\n",
       "        text-align: left;\n",
       "    }\n",
       "\n",
       "    .dataframe tbody tr th {\n",
       "        vertical-align: top;\n",
       "    }\n",
       "</style>\n",
       "<table border=\"1\" class=\"dataframe\">\n",
       "  <thead>\n",
       "    <tr style=\"text-align: right;\">\n",
       "      <th></th>\n",
       "      <th>Mouse ID</th>\n",
       "      <th>Drug Regimen</th>\n",
       "      <th>Sex</th>\n",
       "      <th>Age_months</th>\n",
       "      <th>Weight (g)</th>\n",
       "      <th>Timepoint</th>\n",
       "      <th>Tumor Volume (mm3)</th>\n",
       "      <th>Metastatic Sites</th>\n",
       "    </tr>\n",
       "  </thead>\n",
       "  <tbody>\n",
       "    <tr>\n",
       "      <th>908</th>\n",
       "      <td>g989</td>\n",
       "      <td>Propriva</td>\n",
       "      <td>Female</td>\n",
       "      <td>21</td>\n",
       "      <td>26</td>\n",
       "      <td>0</td>\n",
       "      <td>45.000000</td>\n",
       "      <td>0</td>\n",
       "    </tr>\n",
       "    <tr>\n",
       "      <th>909</th>\n",
       "      <td>g989</td>\n",
       "      <td>Propriva</td>\n",
       "      <td>Female</td>\n",
       "      <td>21</td>\n",
       "      <td>26</td>\n",
       "      <td>5</td>\n",
       "      <td>48.786801</td>\n",
       "      <td>0</td>\n",
       "    </tr>\n",
       "    <tr>\n",
       "      <th>910</th>\n",
       "      <td>g989</td>\n",
       "      <td>Propriva</td>\n",
       "      <td>Female</td>\n",
       "      <td>21</td>\n",
       "      <td>26</td>\n",
       "      <td>5</td>\n",
       "      <td>47.570392</td>\n",
       "      <td>0</td>\n",
       "    </tr>\n",
       "    <tr>\n",
       "      <th>911</th>\n",
       "      <td>g989</td>\n",
       "      <td>Propriva</td>\n",
       "      <td>Female</td>\n",
       "      <td>21</td>\n",
       "      <td>26</td>\n",
       "      <td>10</td>\n",
       "      <td>51.745156</td>\n",
       "      <td>0</td>\n",
       "    </tr>\n",
       "    <tr>\n",
       "      <th>912</th>\n",
       "      <td>g989</td>\n",
       "      <td>Propriva</td>\n",
       "      <td>Female</td>\n",
       "      <td>21</td>\n",
       "      <td>26</td>\n",
       "      <td>10</td>\n",
       "      <td>49.880528</td>\n",
       "      <td>0</td>\n",
       "    </tr>\n",
       "    <tr>\n",
       "      <th>913</th>\n",
       "      <td>g989</td>\n",
       "      <td>Propriva</td>\n",
       "      <td>Female</td>\n",
       "      <td>21</td>\n",
       "      <td>26</td>\n",
       "      <td>15</td>\n",
       "      <td>51.325852</td>\n",
       "      <td>1</td>\n",
       "    </tr>\n",
       "    <tr>\n",
       "      <th>914</th>\n",
       "      <td>g989</td>\n",
       "      <td>Propriva</td>\n",
       "      <td>Female</td>\n",
       "      <td>21</td>\n",
       "      <td>26</td>\n",
       "      <td>15</td>\n",
       "      <td>53.442020</td>\n",
       "      <td>0</td>\n",
       "    </tr>\n",
       "    <tr>\n",
       "      <th>915</th>\n",
       "      <td>g989</td>\n",
       "      <td>Propriva</td>\n",
       "      <td>Female</td>\n",
       "      <td>21</td>\n",
       "      <td>26</td>\n",
       "      <td>20</td>\n",
       "      <td>55.326122</td>\n",
       "      <td>1</td>\n",
       "    </tr>\n",
       "    <tr>\n",
       "      <th>916</th>\n",
       "      <td>g989</td>\n",
       "      <td>Propriva</td>\n",
       "      <td>Female</td>\n",
       "      <td>21</td>\n",
       "      <td>26</td>\n",
       "      <td>20</td>\n",
       "      <td>54.657650</td>\n",
       "      <td>1</td>\n",
       "    </tr>\n",
       "    <tr>\n",
       "      <th>917</th>\n",
       "      <td>g989</td>\n",
       "      <td>Propriva</td>\n",
       "      <td>Female</td>\n",
       "      <td>21</td>\n",
       "      <td>26</td>\n",
       "      <td>25</td>\n",
       "      <td>56.045564</td>\n",
       "      <td>1</td>\n",
       "    </tr>\n",
       "    <tr>\n",
       "      <th>918</th>\n",
       "      <td>g989</td>\n",
       "      <td>Propriva</td>\n",
       "      <td>Female</td>\n",
       "      <td>21</td>\n",
       "      <td>26</td>\n",
       "      <td>30</td>\n",
       "      <td>59.082294</td>\n",
       "      <td>1</td>\n",
       "    </tr>\n",
       "    <tr>\n",
       "      <th>919</th>\n",
       "      <td>g989</td>\n",
       "      <td>Propriva</td>\n",
       "      <td>Female</td>\n",
       "      <td>21</td>\n",
       "      <td>26</td>\n",
       "      <td>35</td>\n",
       "      <td>62.570880</td>\n",
       "      <td>2</td>\n",
       "    </tr>\n",
       "  </tbody>\n",
       "</table>\n",
       "</div>"
      ],
      "text/plain": [
       "    Mouse ID Drug Regimen     Sex  Age_months  Weight (g)  Timepoint  \\\n",
       "908     g989     Propriva  Female          21          26          0   \n",
       "909     g989     Propriva  Female          21          26          5   \n",
       "910     g989     Propriva  Female          21          26          5   \n",
       "911     g989     Propriva  Female          21          26         10   \n",
       "912     g989     Propriva  Female          21          26         10   \n",
       "913     g989     Propriva  Female          21          26         15   \n",
       "914     g989     Propriva  Female          21          26         15   \n",
       "915     g989     Propriva  Female          21          26         20   \n",
       "916     g989     Propriva  Female          21          26         20   \n",
       "917     g989     Propriva  Female          21          26         25   \n",
       "918     g989     Propriva  Female          21          26         30   \n",
       "919     g989     Propriva  Female          21          26         35   \n",
       "\n",
       "     Tumor Volume (mm3)  Metastatic Sites  \n",
       "908           45.000000                 0  \n",
       "909           48.786801                 0  \n",
       "910           47.570392                 0  \n",
       "911           51.745156                 0  \n",
       "912           49.880528                 0  \n",
       "913           51.325852                 1  \n",
       "914           53.442020                 0  \n",
       "915           55.326122                 1  \n",
       "916           54.657650                 1  \n",
       "917           56.045564                 1  \n",
       "918           59.082294                 1  \n",
       "919           62.570880                 2  "
      ]
     },
     "execution_count": 5,
     "metadata": {},
     "output_type": "execute_result"
    }
   ],
   "source": [
    "# Optional: Get all the data for the duplicate mouse ID. \n",
    "\n",
    "result1[result1['Mouse ID']==result1_2[result1_2.Count>1]['Mouse ID'].unique().item()]"
   ]
  },
  {
   "cell_type": "code",
   "execution_count": 6,
   "metadata": {},
   "outputs": [
    {
     "data": {
      "text/html": [
       "<div>\n",
       "<style>\n",
       "    .dataframe thead tr:only-child th {\n",
       "        text-align: right;\n",
       "    }\n",
       "\n",
       "    .dataframe thead th {\n",
       "        text-align: left;\n",
       "    }\n",
       "\n",
       "    .dataframe tbody tr th {\n",
       "        vertical-align: top;\n",
       "    }\n",
       "</style>\n",
       "<table border=\"1\" class=\"dataframe\">\n",
       "  <thead>\n",
       "    <tr style=\"text-align: right;\">\n",
       "      <th></th>\n",
       "      <th>Mouse ID</th>\n",
       "      <th>Drug Regimen</th>\n",
       "      <th>Sex</th>\n",
       "      <th>Age_months</th>\n",
       "      <th>Weight (g)</th>\n",
       "      <th>Timepoint</th>\n",
       "      <th>Tumor Volume (mm3)</th>\n",
       "      <th>Metastatic Sites</th>\n",
       "    </tr>\n",
       "  </thead>\n",
       "  <tbody>\n",
       "    <tr>\n",
       "      <th>0</th>\n",
       "      <td>k403</td>\n",
       "      <td>Ramicane</td>\n",
       "      <td>Male</td>\n",
       "      <td>21</td>\n",
       "      <td>16</td>\n",
       "      <td>0</td>\n",
       "      <td>45.000000</td>\n",
       "      <td>0</td>\n",
       "    </tr>\n",
       "    <tr>\n",
       "      <th>1</th>\n",
       "      <td>k403</td>\n",
       "      <td>Ramicane</td>\n",
       "      <td>Male</td>\n",
       "      <td>21</td>\n",
       "      <td>16</td>\n",
       "      <td>5</td>\n",
       "      <td>38.825898</td>\n",
       "      <td>0</td>\n",
       "    </tr>\n",
       "    <tr>\n",
       "      <th>2</th>\n",
       "      <td>k403</td>\n",
       "      <td>Ramicane</td>\n",
       "      <td>Male</td>\n",
       "      <td>21</td>\n",
       "      <td>16</td>\n",
       "      <td>10</td>\n",
       "      <td>35.014271</td>\n",
       "      <td>1</td>\n",
       "    </tr>\n",
       "    <tr>\n",
       "      <th>3</th>\n",
       "      <td>k403</td>\n",
       "      <td>Ramicane</td>\n",
       "      <td>Male</td>\n",
       "      <td>21</td>\n",
       "      <td>16</td>\n",
       "      <td>15</td>\n",
       "      <td>34.223992</td>\n",
       "      <td>1</td>\n",
       "    </tr>\n",
       "    <tr>\n",
       "      <th>4</th>\n",
       "      <td>k403</td>\n",
       "      <td>Ramicane</td>\n",
       "      <td>Male</td>\n",
       "      <td>21</td>\n",
       "      <td>16</td>\n",
       "      <td>20</td>\n",
       "      <td>32.997729</td>\n",
       "      <td>1</td>\n",
       "    </tr>\n",
       "  </tbody>\n",
       "</table>\n",
       "</div>"
      ],
      "text/plain": [
       "  Mouse ID Drug Regimen   Sex  Age_months  Weight (g)  Timepoint  \\\n",
       "0     k403     Ramicane  Male          21          16          0   \n",
       "1     k403     Ramicane  Male          21          16          5   \n",
       "2     k403     Ramicane  Male          21          16         10   \n",
       "3     k403     Ramicane  Male          21          16         15   \n",
       "4     k403     Ramicane  Male          21          16         20   \n",
       "\n",
       "   Tumor Volume (mm3)  Metastatic Sites  \n",
       "0           45.000000                 0  \n",
       "1           38.825898                 0  \n",
       "2           35.014271                 1  \n",
       "3           34.223992                 1  \n",
       "4           32.997729                 1  "
      ]
     },
     "execution_count": 6,
     "metadata": {},
     "output_type": "execute_result"
    }
   ],
   "source": [
    "# Create a clean DataFrame by dropping the duplicate mouse by its ID.\n",
    "result2 = result1[result1['Mouse ID']!=result1_2[result1_2.Count>1]['Mouse ID'].unique().item()]\n",
    "result2.head(5)"
   ]
  },
  {
   "cell_type": "code",
   "execution_count": 7,
   "metadata": {},
   "outputs": [
    {
     "data": {
      "text/plain": [
       "248"
      ]
     },
     "execution_count": 7,
     "metadata": {},
     "output_type": "execute_result"
    }
   ],
   "source": [
    "# Checking the number of mice in the clean DataFrame.\n",
    "len(result2['Mouse ID'].unique())"
   ]
  },
  {
   "cell_type": "markdown",
   "metadata": {},
   "source": [
    "## Summary Statistics"
   ]
  },
  {
   "cell_type": "code",
   "execution_count": 8,
   "metadata": {},
   "outputs": [
    {
     "name": "stdout",
     "output_type": "stream",
     "text": [
      "Mean of Tumor Volume: \n",
      "              Mean of Tumor Volume\n",
      "Drug Regimen                      \n",
      "Capomulin                    40.68\n",
      "Ceftamin                     52.59\n",
      "Infubinol                    52.88\n",
      "Ketapril                     55.24\n",
      "Naftisol                     54.33\n",
      "Placebo                      54.03\n",
      "Propriva                     52.32\n",
      "Ramicane                     40.22\n",
      "Stelasyn                     54.23\n",
      "Zoniferol                    53.24\n",
      "\n",
      " Median of Tumor Volume: \n",
      "              Median of Tumor Volume\n",
      "Drug Regimen                        \n",
      "Capomulin                      41.56\n",
      "Ceftamin                       51.78\n",
      "Infubinol                      51.82\n",
      "Ketapril                       53.70\n",
      "Naftisol                       52.51\n",
      "Placebo                        52.29\n",
      "Propriva                       50.45\n",
      "Ramicane                       40.67\n",
      "Stelasyn                       52.43\n",
      "Zoniferol                      51.82\n",
      "\n",
      " Variance of Tumor Volume: \n",
      "              Varience of Tumor Volume\n",
      "Drug Regimen                          \n",
      "Capomulin                        24.95\n",
      "Ceftamin                         39.29\n",
      "Infubinol                        43.13\n",
      "Ketapril                         68.55\n",
      "Naftisol                         66.17\n",
      "Placebo                          61.17\n",
      "Propriva                         43.85\n",
      "Ramicane                         23.49\n",
      "Stelasyn                         59.45\n",
      "Zoniferol                        48.53\n",
      "\n",
      " Standard Deviation of Tumor Volume: \n",
      "              Std Deviation of Tumor Volume\n",
      "Drug Regimen                               \n",
      "Capomulin                              4.99\n",
      "Ceftamin                               6.27\n",
      "Infubinol                              6.57\n",
      "Ketapril                               8.28\n",
      "Naftisol                               8.13\n",
      "Placebo                                7.82\n",
      "Propriva                               6.62\n",
      "Ramicane                               4.85\n",
      "Stelasyn                               7.71\n",
      "Zoniferol                              6.97\n",
      "\n",
      " SEM of Tumor Volume: \n",
      "              SEM of Tumor Volume\n",
      "Drug Regimen                     \n",
      "Capomulin                    0.33\n",
      "Ceftamin                     0.47\n",
      "Infubinol                    0.49\n",
      "Ketapril                     0.60\n",
      "Naftisol                     0.60\n",
      "Placebo                      0.58\n",
      "Propriva                     0.54\n",
      "Ramicane                     0.32\n",
      "Stelasyn                     0.57\n",
      "Zoniferol                    0.52\n"
     ]
    }
   ],
   "source": [
    "# Generate a summary statistics table of mean, median, variance, standard deviation, and SEM of the tumor volume for each regimen\n",
    "\n",
    "# This method is the most straighforward, creating multiple series and putting them all together at the end.\n",
    "\n",
    "print('Mean of Tumor Volume: ')\n",
    "print(result2[['Drug Regimen','Tumor Volume (mm3)']].groupby('Drug Regimen').mean().round(2).rename(columns={'Tumor Volume (mm3)': 'Mean of Tumor Volume'}))\n",
    "print('\\n Median of Tumor Volume: ')\n",
    "print(result2[['Drug Regimen','Tumor Volume (mm3)']].groupby('Drug Regimen').median().round(2).rename(columns={'Tumor Volume (mm3)': 'Median of Tumor Volume'}))\n",
    "print('\\n Variance of Tumor Volume: ')\n",
    "print(result2[['Drug Regimen','Tumor Volume (mm3)']].groupby('Drug Regimen').var().round(2).rename(columns={'Tumor Volume (mm3)': 'Varience of Tumor Volume'}))\n",
    "print('\\n Standard Deviation of Tumor Volume: ')\n",
    "print(result2[['Drug Regimen','Tumor Volume (mm3)']].groupby('Drug Regimen').std().round(2).rename(columns={'Tumor Volume (mm3)': 'Std Deviation of Tumor Volume'}))\n",
    "print('\\n SEM of Tumor Volume: ')\n",
    "print(result2[['Drug Regimen','Tumor Volume (mm3)']].groupby('Drug Regimen').sem().round(2).rename(columns={'Tumor Volume (mm3)': 'SEM of Tumor Volume'}))"
   ]
  },
  {
   "cell_type": "code",
   "execution_count": 9,
   "metadata": {},
   "outputs": [
    {
     "data": {
      "text/html": [
       "<div>\n",
       "<style>\n",
       "    .dataframe thead tr:only-child th {\n",
       "        text-align: right;\n",
       "    }\n",
       "\n",
       "    .dataframe thead th {\n",
       "        text-align: left;\n",
       "    }\n",
       "\n",
       "    .dataframe tbody tr th {\n",
       "        vertical-align: top;\n",
       "    }\n",
       "</style>\n",
       "<table border=\"1\" class=\"dataframe\">\n",
       "  <thead>\n",
       "    <tr>\n",
       "      <th></th>\n",
       "      <th colspan=\"5\" halign=\"left\">Tumor Volume (mm3)</th>\n",
       "    </tr>\n",
       "    <tr>\n",
       "      <th></th>\n",
       "      <th>Tumor_Mean</th>\n",
       "      <th>Tumor_Median</th>\n",
       "      <th>Tumor_Variance</th>\n",
       "      <th>Tumor_StandardDeviation</th>\n",
       "      <th>Tumor_SEM</th>\n",
       "    </tr>\n",
       "    <tr>\n",
       "      <th>Drug Regimen</th>\n",
       "      <th></th>\n",
       "      <th></th>\n",
       "      <th></th>\n",
       "      <th></th>\n",
       "      <th></th>\n",
       "    </tr>\n",
       "  </thead>\n",
       "  <tbody>\n",
       "    <tr>\n",
       "      <th>Capomulin</th>\n",
       "      <td>40.675741</td>\n",
       "      <td>41.557809</td>\n",
       "      <td>24.947764</td>\n",
       "      <td>4.994774</td>\n",
       "      <td>0.329346</td>\n",
       "    </tr>\n",
       "    <tr>\n",
       "      <th>Ceftamin</th>\n",
       "      <td>52.591172</td>\n",
       "      <td>51.776157</td>\n",
       "      <td>39.290177</td>\n",
       "      <td>6.268188</td>\n",
       "      <td>0.469821</td>\n",
       "    </tr>\n",
       "    <tr>\n",
       "      <th>Infubinol</th>\n",
       "      <td>52.884795</td>\n",
       "      <td>51.820584</td>\n",
       "      <td>43.128684</td>\n",
       "      <td>6.567243</td>\n",
       "      <td>0.492236</td>\n",
       "    </tr>\n",
       "    <tr>\n",
       "      <th>Ketapril</th>\n",
       "      <td>55.235638</td>\n",
       "      <td>53.698743</td>\n",
       "      <td>68.553577</td>\n",
       "      <td>8.279709</td>\n",
       "      <td>0.603860</td>\n",
       "    </tr>\n",
       "    <tr>\n",
       "      <th>Naftisol</th>\n",
       "      <td>54.331565</td>\n",
       "      <td>52.509285</td>\n",
       "      <td>66.173479</td>\n",
       "      <td>8.134708</td>\n",
       "      <td>0.596466</td>\n",
       "    </tr>\n",
       "    <tr>\n",
       "      <th>Placebo</th>\n",
       "      <td>54.033581</td>\n",
       "      <td>52.288934</td>\n",
       "      <td>61.168083</td>\n",
       "      <td>7.821003</td>\n",
       "      <td>0.581331</td>\n",
       "    </tr>\n",
       "    <tr>\n",
       "      <th>Propriva</th>\n",
       "      <td>52.320930</td>\n",
       "      <td>50.446266</td>\n",
       "      <td>43.852013</td>\n",
       "      <td>6.622085</td>\n",
       "      <td>0.544332</td>\n",
       "    </tr>\n",
       "    <tr>\n",
       "      <th>Ramicane</th>\n",
       "      <td>40.216745</td>\n",
       "      <td>40.673236</td>\n",
       "      <td>23.486704</td>\n",
       "      <td>4.846308</td>\n",
       "      <td>0.320955</td>\n",
       "    </tr>\n",
       "    <tr>\n",
       "      <th>Stelasyn</th>\n",
       "      <td>54.233149</td>\n",
       "      <td>52.431737</td>\n",
       "      <td>59.450562</td>\n",
       "      <td>7.710419</td>\n",
       "      <td>0.573111</td>\n",
       "    </tr>\n",
       "    <tr>\n",
       "      <th>Zoniferol</th>\n",
       "      <td>53.236507</td>\n",
       "      <td>51.818479</td>\n",
       "      <td>48.533355</td>\n",
       "      <td>6.966589</td>\n",
       "      <td>0.516398</td>\n",
       "    </tr>\n",
       "  </tbody>\n",
       "</table>\n",
       "</div>"
      ],
      "text/plain": [
       "             Tumor Volume (mm3)                              \\\n",
       "                     Tumor_Mean Tumor_Median Tumor_Variance   \n",
       "Drug Regimen                                                  \n",
       "Capomulin             40.675741    41.557809      24.947764   \n",
       "Ceftamin              52.591172    51.776157      39.290177   \n",
       "Infubinol             52.884795    51.820584      43.128684   \n",
       "Ketapril              55.235638    53.698743      68.553577   \n",
       "Naftisol              54.331565    52.509285      66.173479   \n",
       "Placebo               54.033581    52.288934      61.168083   \n",
       "Propriva              52.320930    50.446266      43.852013   \n",
       "Ramicane              40.216745    40.673236      23.486704   \n",
       "Stelasyn              54.233149    52.431737      59.450562   \n",
       "Zoniferol             53.236507    51.818479      48.533355   \n",
       "\n",
       "                                                \n",
       "             Tumor_StandardDeviation Tumor_SEM  \n",
       "Drug Regimen                                    \n",
       "Capomulin                   4.994774  0.329346  \n",
       "Ceftamin                    6.268188  0.469821  \n",
       "Infubinol                   6.567243  0.492236  \n",
       "Ketapril                    8.279709  0.603860  \n",
       "Naftisol                    8.134708  0.596466  \n",
       "Placebo                     7.821003  0.581331  \n",
       "Propriva                    6.622085  0.544332  \n",
       "Ramicane                    4.846308  0.320955  \n",
       "Stelasyn                    7.710419  0.573111  \n",
       "Zoniferol                   6.966589  0.516398  "
      ]
     },
     "execution_count": 9,
     "metadata": {},
     "output_type": "execute_result"
    }
   ],
   "source": [
    "# Generate a summary statistics table of mean, median, variance, standard deviation, and SEM of the tumor volume for each regimen\n",
    "\n",
    "\n",
    "# This method produces everything in a single groupby function\n",
    "result2.groupby('Drug Regimen').agg({'Tumor Volume (mm3)': \n",
    "    [('Tumor_Mean', 'mean'),\n",
    "    ('Tumor_Median', 'median'),\n",
    "    ('Tumor_Variance', 'var'),\n",
    "   ( 'Tumor_StandardDeviation', 'std'),\n",
    "    ('Tumor_SEM', 'sem')]}\n",
    ")\n",
    "\n"
   ]
  },
  {
   "cell_type": "markdown",
   "metadata": {},
   "source": [
    "## Bar and Pie Charts"
   ]
  },
  {
   "cell_type": "code",
   "execution_count": 10,
   "metadata": {},
   "outputs": [
    {
     "data": {
      "text/plain": [
       "<matplotlib.axes._subplots.AxesSubplot at 0x1c1f6add080>"
      ]
     },
     "execution_count": 10,
     "metadata": {},
     "output_type": "execute_result"
    },
    {
     "data": {
      "image/png": "[encoded data removed]",
      "text/plain": [
       "<matplotlib.figure.Figure at 0x1c1f5130828>"
      ]
     },
     "metadata": {},
     "output_type": "display_data"
    }
   ],
   "source": [
    "# Generate a bar plot showing the total number of mice for each treatment throughout the course of the study using pandas. \n",
    "%matplotlib inline\n",
    "Tratment_MouseCount = mouse_metadata[['Drug Regimen','Mouse ID' ]].groupby('Drug Regimen'\n",
    "                                                                          ).agg({'Mouse ID': [('MouseCount', 'count')]})\n",
    "Tratment_MouseCount.columns = Tratment_MouseCount.columns.droplevel()\n",
    "Tratment_MouseCount.plot(kind='bar')"
   ]
  },
  {
   "cell_type": "code",
   "execution_count": 11,
   "metadata": {},
   "outputs": [
    {
     "data": {
      "image/png": "[encoded data removed]",
      "text/plain": [
       "<matplotlib.figure.Figure at 0x1c1f6ad5588>"
      ]
     },
     "metadata": {},
     "output_type": "display_data"
    }
   ],
   "source": [
    "df = Tratment_MouseCount.reset_index()\n",
    "\n",
    "plt.bar(df.index, df['MouseCount'].values)\n",
    "plt.xticks(df.index, df['Drug Regimen'], fontsize=11, rotation=30)\n",
    "plt.title('Matplotlib Bar Chart')\n",
    "plt.xlabel('Drug Regimen')\n",
    "plt.ylabel('MouseCount')\n",
    "plt.show()"
   ]
  },
  {
   "cell_type": "code",
   "execution_count": 12,
   "metadata": {},
   "outputs": [
    {
     "data": {
      "text/plain": [
       "array([<matplotlib.axes._subplots.AxesSubplot object at 0x000001C1F6BD6630>], dtype=object)"
      ]
     },
     "execution_count": 12,
     "metadata": {},
     "output_type": "execute_result"
    },
    {
     "data": {
      "image/png": "[encoded data removed]",
      "text/plain": [
       "<matplotlib.figure.Figure at 0x1c1f80302e8>"
      ]
     },
     "metadata": {},
     "output_type": "display_data"
    }
   ],
   "source": [
    "# Generate a pie plot showing the distribution of female versus male mice using pandas\n",
    "mouse_metadata2 = mouse_metadata.copy()\n",
    "mouse_metadata2['GenderCount'] = 1\n",
    "Female_MaleCount = mouse_metadata2[['Sex', 'GenderCount']].groupby('Sex').sum()\n",
    "#Female_MaleCount\n",
    "Female_MaleCount.plot.pie(subplots=True, figsize=(6, 6))"
   ]
  },
  {
   "cell_type": "code",
   "execution_count": 13,
   "metadata": {},
   "outputs": [
    {
     "data": {
      "image/png": "[encoded data removed]",
      "text/plain": [
       "<matplotlib.figure.Figure at 0x1c1f80c1da0>"
      ]
     },
     "metadata": {},
     "output_type": "display_data"
    }
   ],
   "source": [
    "# Generate a pie plot showing the distribution of female versus male mice using pyplot\n",
    "fig1, ax1 = plt.subplots()\n",
    "ax1.pie(Female_MaleCount.reset_index().GenderCount, \n",
    "        labels = Female_MaleCount.reset_index().Sex, \n",
    "        radius=2)\n",
    "\n",
    "ax1.axis('equal')\n",
    "plt.show()"
   ]
  },
  {
   "cell_type": "markdown",
   "metadata": {},
   "source": [
    "## Quartiles, Outliers and Boxplots"
   ]
  },
  {
   "cell_type": "code",
   "execution_count": 14,
   "metadata": {
    "collapsed": true
   },
   "outputs": [],
   "source": [
    "# Calculate the final tumor volume of each mouse across four of the treatment regimens:  \n",
    "# Capomulin, Ramicane, Infubinol, and Ceftamin\n",
    "\n",
    "# Start by getting the last (greatest) timepoint for each mouse\n",
    "\n",
    "max_timepoint = study_results[['Mouse ID', 'Timepoint']].groupby('Mouse ID').max().reset_index()\n",
    "\n",
    "# Merge this group df with the original dataframe to get the tumor volume at the last timepoint\n",
    "study_results_maxTimepoint = study_results.merge(max_timepoint, on = ['Mouse ID', 'Timepoint'])[['Mouse ID', 'Timepoint', 'Tumor Volume (mm3)']]\n",
    "\n",
    "Mouse_Study_Metadata_maxTP = study_results_maxTimepoint.merge(mouse_metadata, on = 'Mouse ID', how = 'outer')"
   ]
  },
  {
   "cell_type": "code",
   "execution_count": 15,
   "metadata": {},
   "outputs": [
    {
     "name": "stdout",
     "output_type": "stream",
     "text": [
      "Outlier: \n",
      "[array([ 36.3213458])]\n"
     ]
    }
   ],
   "source": [
    "# Put treatments into a list for for loop (and later for plot labels)\n",
    "\n",
    "Treatment_list = mouse_metadata['Drug Regimen'].unique()\n",
    "\n",
    "# Create empty list to fill with tumor vol data (for plotting)\n",
    "tumor_vol = []\n",
    "\n",
    "from scipy import stats\n",
    "from scipy.stats.mstats import mquantiles\n",
    "\n",
    "for treatment in Treatment_list: \n",
    "    data = Mouse_Study_Metadata_maxTP[Mouse_Study_Metadata_maxTP['Drug Regimen']==treatment]\n",
    "    Q1 = data[['Drug Regimen','Tumor Volume (mm3)']].quantile(0.25)[0] \n",
    "    Q3 = data[['Drug Regimen','Tumor Volume (mm3)']].quantile(0.75)[0] \n",
    "    IQR = Q3-Q1\n",
    "    \n",
    "    Upper_outlier = data[data['Tumor Volume (mm3)']> (Q3.item()+1.5*IQR)]\n",
    "    Lower_outlier = data[data['Tumor Volume (mm3)']< (Q1.item()-1.5*IQR)]\n",
    "    # Calculate the IQR and quantitatively determine if there are any potential outliers. \n",
    "    Outlier = Upper_outlier.append(Lower_outlier, ignore_index=True)\n",
    "    if len(Outlier):\n",
    "        tumor_vol.append(Outlier['Tumor Volume (mm3)'].unique())\n",
    "\n",
    "print('Outlier: ')        \n",
    "print(tumor_vol)\n",
    "    # Locate the rows which contain mice on each drug and get the tumor volumes\n",
    "    \n",
    "    \n",
    "    # add subset \n",
    "    \n",
    "    \n",
    "    # Determine outliers using upper and lower bounds\n",
    "    "
   ]
  },
  {
   "cell_type": "code",
   "execution_count": 16,
   "metadata": {},
   "outputs": [
    {
     "data": {
      "image/png": "[encoded data removed]",
      "text/plain": [
       "<matplotlib.figure.Figure at 0x1c1f6c39ef0>"
      ]
     },
     "metadata": {},
     "output_type": "display_data"
    }
   ],
   "source": [
    "d_Ramicane = Mouse_Study_Metadata_maxTP[Mouse_Study_Metadata_maxTP['Drug Regimen']=='Ramicane']['Tumor Volume (mm3)'].unique()\n",
    "d_Capomulin = Mouse_Study_Metadata_maxTP[Mouse_Study_Metadata_maxTP['Drug Regimen']=='Capomulin']['Tumor Volume (mm3)'].unique()\n",
    "d_Infubinol = Mouse_Study_Metadata_maxTP[Mouse_Study_Metadata_maxTP['Drug Regimen']=='Infubinol']['Tumor Volume (mm3)'].unique()\n",
    "d_Placebo = Mouse_Study_Metadata_maxTP[Mouse_Study_Metadata_maxTP['Drug Regimen']=='Placebo']['Tumor Volume (mm3)'].unique()\n",
    "d_Ceftamin = Mouse_Study_Metadata_maxTP[Mouse_Study_Metadata_maxTP['Drug Regimen']=='Ceftamin']['Tumor Volume (mm3)'].unique()\n",
    "d_Stelasyn = Mouse_Study_Metadata_maxTP[Mouse_Study_Metadata_maxTP['Drug Regimen']=='Stelasyn']['Tumor Volume (mm3)'].unique()\n",
    "d_Zoniferol = Mouse_Study_Metadata_maxTP[Mouse_Study_Metadata_maxTP['Drug Regimen']=='Zoniferol']['Tumor Volume (mm3)'].unique()\n",
    "d_Ketapril = Mouse_Study_Metadata_maxTP[Mouse_Study_Metadata_maxTP['Drug Regimen']=='Ketapril']['Tumor Volume (mm3)'].unique()\n",
    "d_Propriva = Mouse_Study_Metadata_maxTP[Mouse_Study_Metadata_maxTP['Drug Regimen']=='Propriva']['Tumor Volume (mm3)'].unique()\n",
    "d_Naftisol = Mouse_Study_Metadata_maxTP[Mouse_Study_Metadata_maxTP['Drug Regimen']=='Naftisol']['Tumor Volume (mm3)'].unique()\n",
    "\n",
    "fig = plt.figure(figsize=(30,20))\n",
    "ax = fig.add_subplot(235)\n",
    "\n",
    "boxplt = ax.boxplot([d_Ramicane, d_Capomulin,d_Infubinol, d_Placebo,d_Ceftamin, d_Stelasyn, \n",
    "                     d_Zoniferol,d_Ketapril,d_Propriva, d_Naftisol], vert=0, patch_artist=True)\n",
    "for median in boxplt['medians']:\n",
    "    median.set(color='red', linewidth=3)\n",
    "    \n",
    "ax.set_yticklabels(Treatment_list)\n",
    "ax.set_title('Box Plot - Tumor Volume')\n",
    "plt.show(boxplt)\n"
   ]
  },
  {
   "cell_type": "markdown",
   "metadata": {},
   "source": [
    "## Line and Scatter Plots"
   ]
  },
  {
   "cell_type": "code",
   "execution_count": 23,
   "metadata": {},
   "outputs": [
    {
     "data": {
      "image/png": "[encoded data removed]",
      "text/plain": [
       "<matplotlib.figure.Figure at 0x1c1f8132a90>"
      ]
     },
     "metadata": {},
     "output_type": "display_data"
    }
   ],
   "source": [
    "# Generate a line plot of time point versus tumor volume for a mouse treated with Capomulin\n",
    "results_Capomulin = result1[(result1['Drug Regimen']=='Capomulin')][['Timepoint','Mouse ID', 'Tumor Volume (mm3)']]\n",
    "results_Capomulin_s185 = results_Capomulin[results_Capomulin['Mouse ID'] =='s185']\n",
    "plt.plot(results_Capomulin_s185['Timepoint'], results_Capomulin_s185['Tumor Volume (mm3)'], linewidth=2.0)\n",
    "plt.xlabel('Timepoint')\n",
    "plt.ylabel('Tumor Volume (mm3)')\n",
    "plt.title('Line Chart - Timepoint Vs Tumor Volume')\n",
    "plt.show()"
   ]
  },
  {
   "cell_type": "code",
   "execution_count": 27,
   "metadata": {},
   "outputs": [
    {
     "data": {
      "image/png": "[encoded data removed]",
      "text/plain": [
       "<matplotlib.figure.Figure at 0x1c1f925ec88>"
      ]
     },
     "metadata": {},
     "output_type": "display_data"
    }
   ],
   "source": [
    "# Generate a scatter plot of mouse weight versus average tumor volume for the Capomulin regimen\n",
    "results_Capomulin2 = result1[(result1['Drug Regimen']=='Capomulin')][['Weight (g)','Mouse ID', 'Tumor Volume (mm3)']]\n",
    "results_Capomulin2 = results_Capomulin3.groupby('Weight (g)').mean().reset_index()\n",
    "results_Capomulin2.rename(columns={'Tumor Volume (mm3)': 'Avg Tumor Volume'},inplace=True)\n",
    "fig = plt.figure(figsize=(30,20))\n",
    "ax = fig.add_subplot(235)\n",
    "\n",
    "ax.scatter(results_Capomulin2['Weight (g)'], results_Capomulin2['Avg Tumor Volume'], color='b')\n",
    "ax.set_xlabel('Weight (g)')\n",
    "ax.set_ylabel('Tumor Volume (mm3)')\n",
    "plt.title('Scatter Plot')\n",
    "plt.show()"
   ]
  },
  {
   "cell_type": "markdown",
   "metadata": {},
   "source": [
    "## Correlation and Regression"
   ]
  },
  {
   "cell_type": "code",
   "execution_count": 19,
   "metadata": {},
   "outputs": [
    {
     "name": "stdout",
     "output_type": "stream",
     "text": [
      "Correlation:\n"
     ]
    },
    {
     "data": {
      "text/html": [
       "<div>\n",
       "<style>\n",
       "    .dataframe thead tr:only-child th {\n",
       "        text-align: right;\n",
       "    }\n",
       "\n",
       "    .dataframe thead th {\n",
       "        text-align: left;\n",
       "    }\n",
       "\n",
       "    .dataframe tbody tr th {\n",
       "        vertical-align: top;\n",
       "    }\n",
       "</style>\n",
       "<table border=\"1\" class=\"dataframe\">\n",
       "  <thead>\n",
       "    <tr style=\"text-align: right;\">\n",
       "      <th></th>\n",
       "      <th>Weight (g)</th>\n",
       "      <th>Avg Tumor Volume</th>\n",
       "    </tr>\n",
       "  </thead>\n",
       "  <tbody>\n",
       "    <tr>\n",
       "      <th>Weight (g)</th>\n",
       "      <td>1.000000</td>\n",
       "      <td>0.950524</td>\n",
       "    </tr>\n",
       "    <tr>\n",
       "      <th>Avg Tumor Volume</th>\n",
       "      <td>0.950524</td>\n",
       "      <td>1.000000</td>\n",
       "    </tr>\n",
       "  </tbody>\n",
       "</table>\n",
       "</div>"
      ],
      "text/plain": [
       "                  Weight (g)  Avg Tumor Volume\n",
       "Weight (g)          1.000000          0.950524\n",
       "Avg Tumor Volume    0.950524          1.000000"
      ]
     },
     "execution_count": 19,
     "metadata": {},
     "output_type": "execute_result"
    }
   ],
   "source": [
    "# Calculate the correlation coefficient and linear regression model \n",
    "# for mouse weight and average tumor volume for the Capomulin regimen\n",
    "results_Capomulin3 = result1[(result1['Drug Regimen']=='Capomulin')][['Weight (g)','Mouse ID', 'Tumor Volume (mm3)']]\n",
    "results_Capomulin3 = results_Capomulin3.groupby('Weight (g)').mean().reset_index()\n",
    "results_Capomulin3.rename(columns={'Tumor Volume (mm3)': 'Avg Tumor Volume'},inplace=True)\n",
    "print('Correlation:')\n",
    "results_Capomulin3.corr(method='pearson')"
   ]
  },
  {
   "cell_type": "markdown",
   "metadata": {},
   "source": [
    "### Linear Regression with Scatter Plot"
   ]
  },
  {
   "cell_type": "code",
   "execution_count": 28,
   "metadata": {},
   "outputs": [
    {
     "data": {
      "image/png": "[encoded data removed]",
      "text/plain": [
       "<matplotlib.figure.Figure at 0x1c1f4ba7940>"
      ]
     },
     "metadata": {},
     "output_type": "display_data"
    }
   ],
   "source": [
    "from sklearn.linear_model import LinearRegression\n",
    "X = results_Capomulin3['Weight (g)'].values.reshape(-1,1)\n",
    "Y = results_Capomulin3['Avg Tumor Volume'].values.reshape(-1,1)\n",
    "linearReg = LinearRegression()\n",
    "linearReg.fit(X,Y)\n",
    "\n",
    "Y_pred = linearReg.predict(X)\n",
    "plt.scatter(X,Y)\n",
    "plt.title('Scatter Plot with Linear Regression')\n",
    "plt.xlabel('Weight')\n",
    "plt.ylabel('Avg Tumor Volume')\n",
    "plt.plot(X, Y_pred, color='red')\n",
    "plt.show()"
   ]
  }
 ],
 "metadata": {
  "anaconda-cloud": {},
  "kernelspec": {
   "display_name": "Python 3",
   "language": "python",
   "name": "python3"
  },
  "language_info": {
   "codemirror_mode": {
    "name": "ipython",
    "version": 3
   },
   "file_extension": ".py",
   "mimetype": "text/x-python",
   "name": "python",
   "nbconvert_exporter": "python",
   "pygments_lexer": "ipython3",
   "version": "3.6.1"
  }
 },
 "nbformat": 4,
 "nbformat_minor": 2
}

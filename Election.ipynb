{
 "cells": [
  {
   "cell_type": "code",
   "execution_count": 1,
   "metadata": {},
   "outputs": [
    {
     "name": "stdout",
     "output_type": "stream",
     "text": [
      "Election Results\n",
      "------------------------------\n",
      "Total Votes:3521001\n",
      "------------------------------\n",
      "Correy: 20.0%  (704200)\n",
      "Khan: 63.0%  (2218231)\n",
      "Li: 14.0%  (492940)\n",
      "O'Tooley: 3.0%  (105630)\n",
      "------------------------------\n",
      "Winner: Khan\n",
      "------------------------------\n"
     ]
    }
   ],
   "source": [
    "import pandas as pd\n",
    "\n",
    "DataFolder = ''\n",
    "FileName = 'election_data.csv'\n",
    "\n",
    "election_df = pd.read_csv(DataFolder + FileName)\n",
    "\n",
    "\n",
    "# Get Total Numbers of votes cast\n",
    "TotalVotes_AllCandidates = len(election_df['Voter ID'].unique())\n",
    "\n",
    "# Get the distinct count of votes for each candidate\n",
    "election_df['Count'] = 1\n",
    "votes_perCandidate = election_df[['Count', 'Candidate']].groupby('Candidate').sum().reset_index()\n",
    "\n",
    "votes_perCandidate.rename(columns={'Count': 'VotesCount'}, inplace=True)\n",
    "\n",
    "# Get Votes per candidate\n",
    "votes_perCandidate['Pct Candidate Votes'] = round(votes_perCandidate['VotesCount']/TotalVotes_AllCandidates*100, 3)\n",
    "\n",
    "# Winner\n",
    "winner = votes_perCandidate[votes_perCandidate.VotesCount == max(votes_perCandidate.VotesCount)]['Candidate'].item()\n",
    "\n",
    "# Print results\n",
    "print('Election Results')\n",
    "print('-' * 30)\n",
    "\n",
    "print('Total Votes:' + str(TotalVotes_AllCandidates))\n",
    "print('-' * 30)\n",
    "\n",
    "for candidate in votes_perCandidate.Candidate.unique():\n",
    "    print(candidate + ': '\n",
    "          + str(votes_perCandidate[votes_perCandidate.Candidate == candidate]['Pct Candidate Votes'].item())\n",
    "          + '%  (' +\n",
    "          str(votes_perCandidate[votes_perCandidate.Candidate == candidate]['VotesCount'].item())\n",
    "          + ')')\n",
    "\n",
    "print('-' * 30)\n",
    "\n",
    "print('Winner: ' + winner)\n",
    "print('-' * 30)\n"
   ]
  },
  {
   "cell_type": "code",
   "execution_count": null,
   "metadata": {
    "collapsed": true
   },
   "outputs": [],
   "source": []
  }
 ],
 "metadata": {
  "kernelspec": {
   "display_name": "Python 3",
   "language": "python",
   "name": "python3"
  },
  "language_info": {
   "codemirror_mode": {
    "name": "ipython",
    "version": 3
   },
   "file_extension": ".py",
   "mimetype": "text/x-python",
   "name": "python",
   "nbconvert_exporter": "python",
   "pygments_lexer": "ipython3",
   "version": "3.6.2"
  }
 },
 "nbformat": 4,
 "nbformat_minor": 2
}

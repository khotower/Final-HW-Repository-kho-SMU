{
 "cells": [
  {
   "cell_type": "code",
   "execution_count": 2,
   "metadata": {},
   "outputs": [
    {
     "name": "stdout",
     "output_type": "stream",
     "text": [
      "Financial Analysis\n",
      "--------------------------------------------------\n",
      "Total Months: 86\n",
      "Total: $38382578\n",
      "Average Change: $-2315.12\n",
      "Greatest Increase in Profits: Feb-2012 $(1926159)\n",
      "Greatest Decrease in Profits: Sep-2013 $(-2196167)\n"
     ]
    }
   ],
   "source": [
    "# Date: August 2020\n",
    "# Description: This Python Script reads budget_data.csv and prints results of financial analysis\n",
    "# Author: Ken Ho\n",
    "\n",
    "import pandas as pd\n",
    "\n",
    "DataFolder = ''\n",
    "FileName = 'budget_data.csv'\n",
    "budget_df = pd.read_csv(DataFolder + FileName)\n",
    "\n",
    "budget_df['Changes_Profit/Loss'] = 0\n",
    "for idnx in range(len(budget_df)):\n",
    "    if idnx != 0:\n",
    "        budget_df.loc[budget_df.index==idnx, 'Changes_Profit/Loss'] = \\\n",
    "            budget_df[budget_df.index==idnx]['Profit/Losses'].item() -  budget_df[budget_df.index==(idnx-1)]['Profit/Losses'].item()\n",
    "\n",
    "# Get Total Number of months included in dataset\n",
    "noMonths = len(budget_df.Date.unique())\n",
    "\n",
    "# Get Net amount of \"Profit/Losses\" over the entire period\n",
    "netProfitLosses = budget_df['Profit/Losses'].sum()\n",
    "\n",
    "# Get Average of Changes in Profit/Losses, round to two decimal places\n",
    "budgetMean = round(budget_df['Changes_Profit/Loss'].sum()/(len(budget_df)-1),2)\n",
    "\n",
    "# The greatest increase in profit (date and amount) over the entire period\n",
    "maxChangeProfit = int(budget_df['Changes_Profit/Loss'].max())\n",
    "maxChangeProfitDate = budget_df[budget_df['Changes_Profit/Loss'] == maxChangeProfit]['Date'].item()\n",
    "\n",
    "# The greatest decrease in losses (date and amount) over the entire period\n",
    "maxChangeLosses = int(budget_df['Changes_Profit/Loss'].min())\n",
    "maxChangeLossesDate = budget_df[budget_df['Changes_Profit/Loss'] == maxChangeLosses]['Date'].item()\n",
    "\n",
    "# Print results\n",
    "print('Financial Analysis')\n",
    "print('-'*50)\n",
    "\n",
    "print('Total Months: ' + str(noMonths))\n",
    "print('Total: $' + str(netProfitLosses))\n",
    "print('Average Change: $' + str(budgetMean))\n",
    "print('Greatest Increase in Profits: ' + maxChangeProfitDate + ' $(' + str(maxChangeProfit) + ')')\n",
    "print('Greatest Decrease in Profits: ' + maxChangeLossesDate + ' $(' + str(maxChangeLosses) + ')')\n",
    "\n"
   ]
  },
  {
   "cell_type": "code",
   "execution_count": null,
   "metadata": {},
   "outputs": [],
   "source": []
  }
 ],
 "metadata": {
  "kernelspec": {
   "display_name": "Python 3",
   "language": "python",
   "name": "python3"
  },
  "language_info": {
   "codemirror_mode": {
    "name": "ipython",
    "version": 3
   },
   "file_extension": ".py",
   "mimetype": "text/x-python",
   "name": "python",
   "nbconvert_exporter": "python",
   "pygments_lexer": "ipython3",
   "version": "3.7.6"
  }
 },
 "nbformat": 4,
 "nbformat_minor": 4
}

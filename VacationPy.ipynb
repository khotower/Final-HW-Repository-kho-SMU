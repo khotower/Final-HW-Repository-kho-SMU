{
 "cells": [
  {
   "cell_type": "markdown",
   "metadata": {},
   "source": [
    "# VacationPy\n",
    "----\n",
    "\n",
    "#### Note\n",
    "* Instructions have been included for each segment. You do not have to follow them exactly, but they are included to help you think through the steps."
   ]
  },
  {
   "cell_type": "code",
   "execution_count": 1,
   "metadata": {},
   "outputs": [],
   "source": [
    "# Dependencies and Setup\n",
    "import matplotlib.pyplot as plt\n",
    "import pandas as pd\n",
    "import numpy as np\n",
    "import requests\n",
    "import gmaps\n",
    "import os\n",
    "\n",
    "# Import API key\n",
    "from api_keys import g_key"
   ]
  },
  {
   "cell_type": "code",
   "execution_count": 2,
   "metadata": {},
   "outputs": [],
   "source": [
    "import warnings\n",
    "warnings.filterwarnings('ignore')\n",
    "import requests\n",
    "from pandas.io.json import json_normalize"
   ]
  },
  {
   "cell_type": "markdown",
   "metadata": {},
   "source": [
    "### Store Part I results into DataFrame\n",
    "* Load the csv exported in Part I to a DataFrame"
   ]
  },
  {
   "cell_type": "code",
   "execution_count": 3,
   "metadata": {},
   "outputs": [],
   "source": [
    "# Create dataframe from Part 1 csv\n",
    "city = pd.read_csv('output_data/cities.csv')"
   ]
  },
  {
   "cell_type": "code",
   "execution_count": null,
   "metadata": {},
   "outputs": [],
   "source": []
  },
  {
   "cell_type": "markdown",
   "metadata": {},
   "source": [
    "### Humidity Heatmap\n",
    "* Configure gmaps.\n",
    "* Use the Lat and Lng as locations and Humidity as the weight.\n",
    "* Add Heatmap layer to map."
   ]
  },
  {
   "cell_type": "code",
   "execution_count": 5,
   "metadata": {
    "scrolled": true
   },
   "outputs": [
    {
     "data": {
      "application/vnd.jupyter.widget-view+json": {
       "model_id": "48de3d2d7be447d6afec54a95c0e1bde",
       "version_major": 2,
       "version_minor": 0
      },
      "text/plain": [
       "Figure(layout=FigureLayout(height='420px'))"
      ]
     },
     "metadata": {},
     "output_type": "display_data"
    }
   ],
   "source": [
    "# Take smaller dataframe of 30 cities\n",
    "city_n = city.head(30)\n",
    "# Take latitude and Longitudes in location variable\n",
    "locations = city_n[['Lat', 'Lng']]\n",
    "# Take humidity as weight\n",
    "weights = city_n['Humidity']\n",
    "# create gmaps figure\n",
    "fig = gmaps.figure()\n",
    "# add location and weight to gmaps\n",
    "fig.add_layer(gmaps.heatmap_layer(locations, weights=weights,max_intensity=30, point_radius=3.0))\n",
    "# show gmaps figure\n",
    "fig"
   ]
  },
  {
   "cell_type": "markdown",
   "metadata": {},
   "source": [
    "### Create new DataFrame fitting weather criteria\n",
    "* Narrow down the cities to fit weather conditions.\n",
    "* Drop any rows will null values."
   ]
  },
  {
   "cell_type": "code",
   "execution_count": 6,
   "metadata": {},
   "outputs": [
    {
     "name": "stdout",
     "output_type": "stream",
     "text": [
      "No row meets ideal weather condition, retaining all rows\n"
     ]
    },
    {
     "data": {
      "text/html": [
       "<div>\n",
       "<style scoped>\n",
       "    .dataframe tbody tr th:only-of-type {\n",
       "        vertical-align: middle;\n",
       "    }\n",
       "\n",
       "    .dataframe tbody tr th {\n",
       "        vertical-align: top;\n",
       "    }\n",
       "\n",
       "    .dataframe thead th {\n",
       "        text-align: right;\n",
       "    }\n",
       "</style>\n",
       "<table border=\"1\" class=\"dataframe\">\n",
       "  <thead>\n",
       "    <tr style=\"text-align: right;\">\n",
       "      <th></th>\n",
       "      <th>City</th>\n",
       "      <th>Lat</th>\n",
       "      <th>Lng</th>\n",
       "      <th>Max Temp</th>\n",
       "      <th>Humidity</th>\n",
       "      <th>Cloudiness</th>\n",
       "      <th>Wind Speed</th>\n",
       "      <th>Country</th>\n",
       "      <th>Date</th>\n",
       "    </tr>\n",
       "  </thead>\n",
       "  <tbody>\n",
       "    <tr>\n",
       "      <th>0</th>\n",
       "      <td>Egersund</td>\n",
       "      <td>58.45</td>\n",
       "      <td>6.00</td>\n",
       "      <td>293.71</td>\n",
       "      <td>95.0</td>\n",
       "      <td>100.0</td>\n",
       "      <td>2.24</td>\n",
       "      <td>NO</td>\n",
       "      <td>1.597764e+09</td>\n",
       "    </tr>\n",
       "    <tr>\n",
       "      <th>1</th>\n",
       "      <td>Lebu</td>\n",
       "      <td>-37.62</td>\n",
       "      <td>-73.65</td>\n",
       "      <td>282.15</td>\n",
       "      <td>71.0</td>\n",
       "      <td>73.0</td>\n",
       "      <td>4.50</td>\n",
       "      <td>CL</td>\n",
       "      <td>1.597764e+09</td>\n",
       "    </tr>\n",
       "  </tbody>\n",
       "</table>\n",
       "</div>"
      ],
      "text/plain": [
       "       City    Lat    Lng  Max Temp  Humidity  Cloudiness  Wind Speed Country  \\\n",
       "0  Egersund  58.45   6.00    293.71      95.0       100.0        2.24      NO   \n",
       "1      Lebu -37.62 -73.65    282.15      71.0        73.0        4.50      CL   \n",
       "\n",
       "           Date  \n",
       "0  1.597764e+09  \n",
       "1  1.597764e+09  "
      ]
     },
     "execution_count": 6,
     "metadata": {},
     "output_type": "execute_result"
    }
   ],
   "source": [
    "# Create conditions for ideal weather\n",
    "cond_temp_80 = city['Max Temp'] < 80\n",
    "cond_temp_70 = city['Max Temp'] > 70\n",
    "cond_wind = city['Wind Speed'] < 10\n",
    "cond_cloud = city['Cloudiness'] ==0\n",
    "\n",
    "# Take cities with ideal weather in city_cond dataframe\n",
    "city_cond = city[(cond_temp_80) & (cond_temp_70) & (cond_wind) & (cond_cloud)]\n",
    "\n",
    "if len(city_cond)==0:\n",
    "    print('No row meets ideal weather condition, retaining all rows')\n",
    "    city_ideal = city.copy()\n",
    "else:\n",
    "    print('Dataset with ideal weather condition:') \n",
    "    city_ideal = city_cond.copy()\n",
    "    \n",
    "city_ideal.head(2)\n"
   ]
  },
  {
   "cell_type": "markdown",
   "metadata": {},
   "source": [
    "### Hotel Map\n",
    "* Store into variable named `hotel_df`.\n",
    "* Add a \"Hotel Name\" column to the DataFrame.\n",
    "* Set parameters to search for hotels with 5000 meters.\n",
    "* Hit the Google Places API for each city's coordinates.\n",
    "* Store the first Hotel result into the DataFrame.\n",
    "* Plot markers on top of the heatmap."
   ]
  },
  {
   "cell_type": "code",
   "execution_count": null,
   "metadata": {},
   "outputs": [],
   "source": []
  },
  {
   "cell_type": "code",
   "execution_count": 7,
   "metadata": {},
   "outputs": [],
   "source": [
    "# Take first 200 cities \n",
    "city_small = city.head(200)\n",
    "\n",
    "#Create an empty dataframe: hotel_df to load hotel details\n",
    "hotel_df = pd.DataFrame()\n",
    "\n",
    "# Create a new column Restaurant to help us debug records for which Google API didnt found any restaurant\n",
    "city_small['Restaurant'] = ''\n",
    "\n",
    "# Create partial strings for Google Places API, store it in variables for convenience\n",
    "static_url = \"https://maps.googleapis.com/maps/api/place/nearbysearch/json?location=\"\n",
    "static_url2 = \"&radius=5000&type=restaurant&key=\"\n",
    "\n",
    "# Iterate over each row of city_small df, create a url with latitude, longitude\n",
    "for i in range(len(city_small)):\n",
    "    lat = city_small[city_small.index==i]['Lat'].item()\n",
    "    lng = city_small[city_small.index==1]['Lng'].item()\n",
    "    url = static_url + str(lat) + ',' + str(lng) + static_url2 + g_key \n",
    "    r = requests.get(url)\n",
    "    \n",
    "    # Add Try except block to handle errors (where no restaurant is found) gracefully\n",
    "    try: \n",
    "        # load results from Google API into dataframe\n",
    "        df = json_normalize(r.json()['results'])\n",
    "        cols = ['business_status','name', 'rating', 'user_ratings_total','geometry.location.lat', 'geometry.location.lng' ]\n",
    "        df = df[cols].head(1)\n",
    "        df['City'] = city_small[city_small.index==i]['City'].item()\n",
    "        df['Country'] = city_small[city_small.index==i]['Country'].item()\n",
    "    except: \n",
    "        city.loc[city.index==i, 'Restaurant'] = 'No Restaurant Found'\n",
    "        \n",
    "    hotel_df = pd.concat([df,hotel_df],axis=0, ignore_index=True)\n",
    "\n",
    "# Rename columns    \n",
    "hotel_df.rename(columns = {'name': 'Hotel Name', 'geometry.location.lat': 'Lat', 'geometry.location.lng': 'Lng'}, inplace=True)\n",
    "\n",
    "# Keep only required columns\n",
    "hotel_df = hotel_df[['Hotel Name', 'Lat', 'Lng', 'City', 'Country']]"
   ]
  },
  {
   "cell_type": "code",
   "execution_count": 8,
   "metadata": {},
   "outputs": [],
   "source": [
    "# NOTE: Do not change any of the code in this cell\n",
    "\n",
    "# Using the template add the hotel marks to the heatmap\n",
    "info_box_template = \"\"\"\n",
    "<dl>\n",
    "<dt>Name</dt><dd>{Hotel Name}</dd>\n",
    "<dt>City</dt><dd>{City}</dd>\n",
    "<dt>Country</dt><dd>{Country}</dd>\n",
    "</dl>\n",
    "\"\"\"\n",
    "# Store the DataFrame Row\n",
    "# NOTE: be sure to update with your DataFrame name\n",
    "hotel_info = [info_box_template.format(**row) for index, row in hotel_df.iterrows()]\n",
    "locations = hotel_df[[\"Lat\", \"Lng\"]]"
   ]
  },
  {
   "cell_type": "code",
   "execution_count": 9,
   "metadata": {},
   "outputs": [
    {
     "data": {
      "application/vnd.jupyter.widget-view+json": {
       "model_id": "9e1888927d604fcdbf5ab9480e1cb72f",
       "version_major": 2,
       "version_minor": 0
      },
      "text/plain": [
       "Figure(layout=FigureLayout(height='420px'))"
      ]
     },
     "metadata": {},
     "output_type": "display_data"
    }
   ],
   "source": [
    "marker_layer = gmaps.marker_layer(locations, info_box_content=hotel_info)\n",
    "fig = gmaps.figure()\n",
    "fig.add_layer(marker_layer)\n",
    "fig"
   ]
  },
  {
   "cell_type": "code",
   "execution_count": null,
   "metadata": {},
   "outputs": [],
   "source": []
  }
 ],
 "metadata": {
  "kernelspec": {
   "display_name": "Python 3",
   "language": "python",
   "name": "python3"
  },
  "language_info": {
   "codemirror_mode": {
    "name": "ipython",
    "version": 3
   },
   "file_extension": ".py",
   "mimetype": "text/x-python",
   "name": "python",
   "nbconvert_exporter": "python",
   "pygments_lexer": "ipython3",
   "version": "3.7.6"
  },
  "latex_envs": {
   "LaTeX_envs_menu_present": true,
   "autoclose": false,
   "autocomplete": true,
   "bibliofile": "biblio.bib",
   "cite_by": "apalike",
   "current_citInitial": 1,
   "eqLabelWithNumbers": true,
   "eqNumInitial": 1,
   "hotkeys": {
    "equation": "Ctrl-E",
    "itemize": "Ctrl-I"
   },
   "labels_anchors": false,
   "latex_user_defs": false,
   "report_style_numbering": false,
   "user_envs_cfg": false
  },
  "varInspector": {
   "cols": {
    "lenName": 16,
    "lenType": 16,
    "lenVar": 40
   },
   "kernels_config": {
    "python": {
     "delete_cmd_postfix": "",
     "delete_cmd_prefix": "del ",
     "library": "var_list.py",
     "varRefreshCmd": "print(var_dic_list())"
    },
    "r": {
     "delete_cmd_postfix": ") ",
     "delete_cmd_prefix": "rm(",
     "library": "var_list.r",
     "varRefreshCmd": "cat(var_dic_list()) "
    }
   },
   "types_to_exclude": [
    "module",
    "function",
    "builtin_function_or_method",
    "instance",
    "_Feature"
   ],
   "window_display": false
  }
 },
 "nbformat": 4,
 "nbformat_minor": 4
}
